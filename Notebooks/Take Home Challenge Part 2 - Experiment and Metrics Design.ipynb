{
 "cells": [
  {
   "cell_type": "code",
   "execution_count": 5,
   "id": "e4a19248",
   "metadata": {},
   "outputs": [],
   "source": [
    "import scipy.stats as stats\n",
    "import numpy as np"
   ]
  },
  {
   "cell_type": "markdown",
   "id": "5784e45e",
   "metadata": {},
   "source": [
    "Similar to Uber’s northstar metric of the number of successful rides per day, I would choose the number of successful rides in either city from a previously exclusive driving partner.\n",
    "\n",
    "Why?\n",
    "\n",
    "All other metrics act in support of this end goal: boosting total rides. If a change in policy does not ultimately drive more rides and more revenue, then it's not worth it.\n",
    "\n",
    "If a driving partner had been mostly exclusive to Gotham, I’d measure how many successful rides that partner completed in Metropolis post-change. I’d then compare the average difference in the number of successful rides in a 3-month span and run a paired t-test. You'd then need to compare if driving in Metropolis decreased the number of rides in Gotham for that partner.\n",
    "\n",
    "Given the above caveat, a better avenue could be comparing the total rides per city and exploring if this change in toll policy increased total rides in both cities, not necessarily looking at individual driving partners. My experiment would be the same.\n",
    "\n",
    "After a three-month (one-quarter) span, I would:\n",
    "\n",
    "Compare the average number of successful rides completed per week for the quarter preceding the change and for the quarter of the change for both Gotham and Metropolis.\n",
    "\n",
    "Take that difference in the average number of rides and run a paired t-test to understand if the change in the number of rides was from our change and not from random chance.\n",
    "\n",
    "The test would produce a p-value, and I would either accept the null hypothesis that this change did NOT drive any meaningful change or reject that null hypothesis depending on the size of the p-value.\n"
   ]
  },
  {
   "cell_type": "markdown",
   "id": "3ce60e41",
   "metadata": {},
   "source": [
    "### Example:\n",
    "\n",
    "For the purposes of this example, we'll compare a hypothetical week of rides pre and post the change. In the real world, I'd use all of the available data pre and post the change. This specific test is for Gotham, and I'd repeat the same test for Metropolis.\n",
    "\n",
    "#### Null Hypothesis: The policy change has no positive effect on the average rides per week.\n",
    "\n",
    "#### Alternative Hypothesis: The policy change has a significant effect on the average rides per week."
   ]
  },
  {
   "cell_type": "code",
   "execution_count": 11,
   "id": "e809b9db",
   "metadata": {},
   "outputs": [
    {
     "name": "stdout",
     "output_type": "stream",
     "text": [
      "Paired t-test results:\n",
      "T-statistic: -7.681631164977009\n",
      "P-value: 0.00025471272467718256\n",
      "Suggest rejecting the null hypothesis: The policy change has a significant effect.\n"
     ]
    }
   ],
   "source": [
    "rides_before_change = [250423,250176,254567,256123,249896,253124,251764]\n",
    "rides_after_change = [261528,262476,259888,264875,255875,262345,256980]\n",
    "\n",
    "\n",
    "differences = [after - before for before, after in zip(rides_before_change, rides_after_change)]\n",
    "\n",
    "\n",
    "t_statistic, p_value = stats.ttest_rel(rides_before_change, rides_after_change)\n",
    "\n",
    "\n",
    "print(\"Paired t-test results:\")\n",
    "print(f\"T-statistic: {t_statistic}\")\n",
    "print(f\"P-value: {p_value}\")\n",
    "\n",
    "\n",
    "alpha = 0.05\n",
    "\n",
    "if p_value < alpha:\n",
    "    print(\"Suggest rejecting the null hypothesis: The policy change has a significant effect.\")\n",
    "else:\n",
    "    print(\"Fail to reject the null hypothesis: No significant effect observed.\")"
   ]
  },
  {
   "cell_type": "markdown",
   "id": "83696510",
   "metadata": {},
   "source": [
    "So what does that p-value mean?\n",
    "\n",
    "The p-value tells us the chance of observing the difference in total rides if it really was due to random chance. If the policy did not drive that change, aka the null hypothesis is true, there's a 0.00025% chance we'd see the result we saw.\n",
    "\n",
    "Given that very small chance, I would be comfortable saying this policy change did impact results in a significant way."
   ]
  },
  {
   "cell_type": "code",
   "execution_count": 9,
   "id": "4ca9df88",
   "metadata": {},
   "outputs": [],
   "source": [
    "confidence_interval = stats.t.interval(0.95, len(differences) - 1, loc=np.mean(differences), scale=stats.sem(differences))"
   ]
  },
  {
   "cell_type": "code",
   "execution_count": 10,
   "id": "f48fff23",
   "metadata": {},
   "outputs": [
    {
     "data": {
      "text/plain": [
       "(5636.058160462711, 10905.084696680147)"
      ]
     },
     "execution_count": 10,
     "metadata": {},
     "output_type": "execute_result"
    }
   ],
   "source": [
    "confidence_interval"
   ]
  },
  {
   "cell_type": "markdown",
   "id": "7300d1fd",
   "metadata": {},
   "source": [
    "What does this confidence interval tell us?\n",
    "\n",
    "We can interpret that as being 95% sure that the policy change drives an increase in the average number of successful rides anywhere between 5636 rides and 10905 in Gotham."
   ]
  },
  {
   "cell_type": "markdown",
   "id": "01283763",
   "metadata": {},
   "source": [
    "As for any caveats, you'd need to explore whether the increase in rides and revenue outweighs the cost of reimbursing all toll costs. If the increase in revenue is outweighed by the cost of the tolls, then it wouldn't be worth it. My assumption is there would need to be a certain threshold of increased rides, and once that threshold is met, it'd be worth it."
   ]
  }
 ],
 "metadata": {
  "kernelspec": {
   "display_name": "Python 3 (ipykernel)",
   "language": "python",
   "name": "python3"
  },
  "language_info": {
   "codemirror_mode": {
    "name": "ipython",
    "version": 3
   },
   "file_extension": ".py",
   "mimetype": "text/x-python",
   "name": "python",
   "nbconvert_exporter": "python",
   "pygments_lexer": "ipython3",
   "version": "3.11.5"
  }
 },
 "nbformat": 4,
 "nbformat_minor": 5
}
